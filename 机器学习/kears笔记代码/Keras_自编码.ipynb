{
 "cells": [
  {
   "cell_type": "code",
   "execution_count": 1,
   "metadata": {},
   "outputs": [
    {
     "name": "stderr",
     "output_type": "stream",
     "text": [
      "Using TensorFlow backend.\n"
     ]
    }
   ],
   "source": [
    "import numpy as np\n",
    "np.random.seed(1337)  # for reproducibility\n",
    "\n",
    "from keras.datasets import mnist\n",
    "from keras.models import Model\n",
    "from keras.layers import Dense, Input\n",
    "import matplotlib.pyplot as plt"
   ]
  },
  {
   "cell_type": "code",
   "execution_count": 2,
   "metadata": {},
   "outputs": [
    {
     "name": "stdout",
     "output_type": "stream",
     "text": [
      "(60000, 784)\n",
      "(10000, 784)\n"
     ]
    }
   ],
   "source": [
    "# download the mnist to the path '~/.keras/datasets/' if it is the first time to be called\n",
    "# X shape (60,000 28x28), y shape (10,000, )\n",
    "(x_train, _), (x_test, y_test) = mnist.load_data()\n",
    "\n",
    "# data pre-processing\n",
    "x_train = x_train.astype('float32') / 255. - 0.5       # minmax_normalized\n",
    "x_test = x_test.astype('float32') / 255. - 0.5         # minmax_normalized\n",
    "x_train = x_train.reshape((x_train.shape[0], -1))\n",
    "x_test = x_test.reshape((x_test.shape[0], -1))\n",
    "print(x_train.shape)\n",
    "print(x_test.shape)"
   ]
  },
  {
   "cell_type": "code",
   "execution_count": 3,
   "metadata": {
    "collapsed": true
   },
   "outputs": [],
   "source": [
    "# in order to plot in a 2D figure\n",
    "encoding_dim = 2\n",
    "\n",
    "# this is our input placeholder\n",
    "input_img = Input(shape=(784,))"
   ]
  },
  {
   "cell_type": "code",
   "execution_count": 4,
   "metadata": {
    "collapsed": true
   },
   "outputs": [],
   "source": [
    "# encoder layers\n",
    "encoded = Dense(128, activation='relu')(input_img)\n",
    "encoded = Dense(64, activation='relu')(encoded)\n",
    "encoded = Dense(10, activation='relu')(encoded)\n",
    "encoder_output = Dense(encoding_dim)(encoded)"
   ]
  },
  {
   "cell_type": "code",
   "execution_count": 5,
   "metadata": {
    "collapsed": true
   },
   "outputs": [],
   "source": [
    "# decoder layers\n",
    "decoded = Dense(10, activation='relu')(encoder_output)\n",
    "decoded = Dense(64, activation='relu')(decoded)\n",
    "decoded = Dense(128, activation='relu')(decoded)\n",
    "decoded = Dense(784, activation='tanh')(decoded)"
   ]
  },
  {
   "cell_type": "code",
   "execution_count": 6,
   "metadata": {
    "collapsed": true
   },
   "outputs": [],
   "source": [
    "# construct the autoencoder model\n",
    "autoencoder = Model(inputs=input_img, outputs=decoded)"
   ]
  },
  {
   "cell_type": "code",
   "execution_count": 9,
   "metadata": {},
   "outputs": [],
   "source": [
    "# 可视化该自编码器\n",
    "from keras.utils import plot_model\n",
    "plot_model(autoencoder, show_shapes=True, to_file='model.png')"
   ]
  },
  {
   "cell_type": "code",
   "execution_count": 12,
   "metadata": {},
   "outputs": [
    {
     "data": {
      "image/svg+xml": [
       "<svg height=\"719pt\" viewBox=\"0.00 0.00 222.00 719.00\" width=\"222pt\" xmlns=\"http://www.w3.org/2000/svg\" xmlns:xlink=\"http://www.w3.org/1999/xlink\">\n",
       "<g class=\"graph\" id=\"graph0\" transform=\"scale(1 1) rotate(0) translate(4 715)\">\n",
       "<title>G</title>\n",
       "<polygon fill=\"#ffffff\" points=\"-4,4 -4,-715 218,-715 218,4 -4,4\" stroke=\"transparent\"/>\n",
       "<!-- 4708532408 -->\n",
       "<g class=\"node\" id=\"node1\">\n",
       "<title>4708532408</title>\n",
       "<polygon fill=\"none\" points=\"0,-664.5 0,-710.5 214,-710.5 214,-664.5 0,-664.5\" stroke=\"#000000\"/>\n",
       "<text fill=\"#000000\" font-family=\"Times,serif\" font-size=\"14.00\" text-anchor=\"middle\" x=\"50.5\" y=\"-683.8\">input_1: InputLayer</text>\n",
       "<polyline fill=\"none\" points=\"101,-664.5 101,-710.5 \" stroke=\"#000000\"/>\n",
       "<text fill=\"#000000\" font-family=\"Times,serif\" font-size=\"14.00\" text-anchor=\"middle\" x=\"124\" y=\"-695.3\">input:</text>\n",
       "<polyline fill=\"none\" points=\"101,-687.5 147,-687.5 \" stroke=\"#000000\"/>\n",
       "<text fill=\"#000000\" font-family=\"Times,serif\" font-size=\"14.00\" text-anchor=\"middle\" x=\"124\" y=\"-672.3\">output:</text>\n",
       "<polyline fill=\"none\" points=\"147,-664.5 147,-710.5 \" stroke=\"#000000\"/>\n",
       "<text fill=\"#000000\" font-family=\"Times,serif\" font-size=\"14.00\" text-anchor=\"middle\" x=\"180.5\" y=\"-695.3\">(None, 784)</text>\n",
       "<polyline fill=\"none\" points=\"147,-687.5 214,-687.5 \" stroke=\"#000000\"/>\n",
       "<text fill=\"#000000\" font-family=\"Times,serif\" font-size=\"14.00\" text-anchor=\"middle\" x=\"180.5\" y=\"-672.3\">(None, 784)</text>\n",
       "</g>\n",
       "<!-- 4708545032 -->\n",
       "<g class=\"node\" id=\"node2\">\n",
       "<title>4708545032</title>\n",
       "<polygon fill=\"none\" points=\"9,-581.5 9,-627.5 205,-627.5 205,-581.5 9,-581.5\" stroke=\"#000000\"/>\n",
       "<text fill=\"#000000\" font-family=\"Times,serif\" font-size=\"14.00\" text-anchor=\"middle\" x=\"50.5\" y=\"-600.8\">dense_1: Dense</text>\n",
       "<polyline fill=\"none\" points=\"92,-581.5 92,-627.5 \" stroke=\"#000000\"/>\n",
       "<text fill=\"#000000\" font-family=\"Times,serif\" font-size=\"14.00\" text-anchor=\"middle\" x=\"115\" y=\"-612.3\">input:</text>\n",
       "<polyline fill=\"none\" points=\"92,-604.5 138,-604.5 \" stroke=\"#000000\"/>\n",
       "<text fill=\"#000000\" font-family=\"Times,serif\" font-size=\"14.00\" text-anchor=\"middle\" x=\"115\" y=\"-589.3\">output:</text>\n",
       "<polyline fill=\"none\" points=\"138,-581.5 138,-627.5 \" stroke=\"#000000\"/>\n",
       "<text fill=\"#000000\" font-family=\"Times,serif\" font-size=\"14.00\" text-anchor=\"middle\" x=\"171.5\" y=\"-612.3\">(None, 784)</text>\n",
       "<polyline fill=\"none\" points=\"138,-604.5 205,-604.5 \" stroke=\"#000000\"/>\n",
       "<text fill=\"#000000\" font-family=\"Times,serif\" font-size=\"14.00\" text-anchor=\"middle\" x=\"171.5\" y=\"-589.3\">(None, 128)</text>\n",
       "</g>\n",
       "<!-- 4708532408&#45;&gt;4708545032 -->\n",
       "<g class=\"edge\" id=\"edge1\">\n",
       "<title>4708532408-&gt;4708545032</title>\n",
       "<path d=\"M107,-664.3799C107,-656.1745 107,-646.7679 107,-637.8786\" fill=\"none\" stroke=\"#000000\"/>\n",
       "<polygon fill=\"#000000\" points=\"110.5001,-637.784 107,-627.784 103.5001,-637.784 110.5001,-637.784\" stroke=\"#000000\"/>\n",
       "</g>\n",
       "<!-- 4707929896 -->\n",
       "<g class=\"node\" id=\"node3\">\n",
       "<title>4707929896</title>\n",
       "<polygon fill=\"none\" points=\"9,-498.5 9,-544.5 205,-544.5 205,-498.5 9,-498.5\" stroke=\"#000000\"/>\n",
       "<text fill=\"#000000\" font-family=\"Times,serif\" font-size=\"14.00\" text-anchor=\"middle\" x=\"50.5\" y=\"-517.8\">dense_2: Dense</text>\n",
       "<polyline fill=\"none\" points=\"92,-498.5 92,-544.5 \" stroke=\"#000000\"/>\n",
       "<text fill=\"#000000\" font-family=\"Times,serif\" font-size=\"14.00\" text-anchor=\"middle\" x=\"115\" y=\"-529.3\">input:</text>\n",
       "<polyline fill=\"none\" points=\"92,-521.5 138,-521.5 \" stroke=\"#000000\"/>\n",
       "<text fill=\"#000000\" font-family=\"Times,serif\" font-size=\"14.00\" text-anchor=\"middle\" x=\"115\" y=\"-506.3\">output:</text>\n",
       "<polyline fill=\"none\" points=\"138,-498.5 138,-544.5 \" stroke=\"#000000\"/>\n",
       "<text fill=\"#000000\" font-family=\"Times,serif\" font-size=\"14.00\" text-anchor=\"middle\" x=\"171.5\" y=\"-529.3\">(None, 128)</text>\n",
       "<polyline fill=\"none\" points=\"138,-521.5 205,-521.5 \" stroke=\"#000000\"/>\n",
       "<text fill=\"#000000\" font-family=\"Times,serif\" font-size=\"14.00\" text-anchor=\"middle\" x=\"171.5\" y=\"-506.3\">(None, 64)</text>\n",
       "</g>\n",
       "<!-- 4708545032&#45;&gt;4707929896 -->\n",
       "<g class=\"edge\" id=\"edge2\">\n",
       "<title>4708545032-&gt;4707929896</title>\n",
       "<path d=\"M107,-581.3799C107,-573.1745 107,-563.7679 107,-554.8786\" fill=\"none\" stroke=\"#000000\"/>\n",
       "<polygon fill=\"#000000\" points=\"110.5001,-554.784 107,-544.784 103.5001,-554.784 110.5001,-554.784\" stroke=\"#000000\"/>\n",
       "</g>\n",
       "<!-- 4764065128 -->\n",
       "<g class=\"node\" id=\"node4\">\n",
       "<title>4764065128</title>\n",
       "<polygon fill=\"none\" points=\"11.5,-415.5 11.5,-461.5 202.5,-461.5 202.5,-415.5 11.5,-415.5\" stroke=\"#000000\"/>\n",
       "<text fill=\"#000000\" font-family=\"Times,serif\" font-size=\"14.00\" text-anchor=\"middle\" x=\"53\" y=\"-434.8\">dense_3: Dense</text>\n",
       "<polyline fill=\"none\" points=\"94.5,-415.5 94.5,-461.5 \" stroke=\"#000000\"/>\n",
       "<text fill=\"#000000\" font-family=\"Times,serif\" font-size=\"14.00\" text-anchor=\"middle\" x=\"117.5\" y=\"-446.3\">input:</text>\n",
       "<polyline fill=\"none\" points=\"94.5,-438.5 140.5,-438.5 \" stroke=\"#000000\"/>\n",
       "<text fill=\"#000000\" font-family=\"Times,serif\" font-size=\"14.00\" text-anchor=\"middle\" x=\"117.5\" y=\"-423.3\">output:</text>\n",
       "<polyline fill=\"none\" points=\"140.5,-415.5 140.5,-461.5 \" stroke=\"#000000\"/>\n",
       "<text fill=\"#000000\" font-family=\"Times,serif\" font-size=\"14.00\" text-anchor=\"middle\" x=\"171.5\" y=\"-446.3\">(None, 64)</text>\n",
       "<polyline fill=\"none\" points=\"140.5,-438.5 202.5,-438.5 \" stroke=\"#000000\"/>\n",
       "<text fill=\"#000000\" font-family=\"Times,serif\" font-size=\"14.00\" text-anchor=\"middle\" x=\"171.5\" y=\"-423.3\">(None, 10)</text>\n",
       "</g>\n",
       "<!-- 4707929896&#45;&gt;4764065128 -->\n",
       "<g class=\"edge\" id=\"edge3\">\n",
       "<title>4707929896-&gt;4764065128</title>\n",
       "<path d=\"M107,-498.3799C107,-490.1745 107,-480.7679 107,-471.8786\" fill=\"none\" stroke=\"#000000\"/>\n",
       "<polygon fill=\"#000000\" points=\"110.5001,-471.784 107,-461.784 103.5001,-471.784 110.5001,-471.784\" stroke=\"#000000\"/>\n",
       "</g>\n",
       "<!-- 4708545704 -->\n",
       "<g class=\"node\" id=\"node5\">\n",
       "<title>4708545704</title>\n",
       "<polygon fill=\"none\" points=\"11.5,-332.5 11.5,-378.5 202.5,-378.5 202.5,-332.5 11.5,-332.5\" stroke=\"#000000\"/>\n",
       "<text fill=\"#000000\" font-family=\"Times,serif\" font-size=\"14.00\" text-anchor=\"middle\" x=\"53\" y=\"-351.8\">dense_4: Dense</text>\n",
       "<polyline fill=\"none\" points=\"94.5,-332.5 94.5,-378.5 \" stroke=\"#000000\"/>\n",
       "<text fill=\"#000000\" font-family=\"Times,serif\" font-size=\"14.00\" text-anchor=\"middle\" x=\"117.5\" y=\"-363.3\">input:</text>\n",
       "<polyline fill=\"none\" points=\"94.5,-355.5 140.5,-355.5 \" stroke=\"#000000\"/>\n",
       "<text fill=\"#000000\" font-family=\"Times,serif\" font-size=\"14.00\" text-anchor=\"middle\" x=\"117.5\" y=\"-340.3\">output:</text>\n",
       "<polyline fill=\"none\" points=\"140.5,-332.5 140.5,-378.5 \" stroke=\"#000000\"/>\n",
       "<text fill=\"#000000\" font-family=\"Times,serif\" font-size=\"14.00\" text-anchor=\"middle\" x=\"171.5\" y=\"-363.3\">(None, 10)</text>\n",
       "<polyline fill=\"none\" points=\"140.5,-355.5 202.5,-355.5 \" stroke=\"#000000\"/>\n",
       "<text fill=\"#000000\" font-family=\"Times,serif\" font-size=\"14.00\" text-anchor=\"middle\" x=\"171.5\" y=\"-340.3\">(None, 2)</text>\n",
       "</g>\n",
       "<!-- 4764065128&#45;&gt;4708545704 -->\n",
       "<g class=\"edge\" id=\"edge4\">\n",
       "<title>4764065128-&gt;4708545704</title>\n",
       "<path d=\"M107,-415.3799C107,-407.1745 107,-397.7679 107,-388.8786\" fill=\"none\" stroke=\"#000000\"/>\n",
       "<polygon fill=\"#000000\" points=\"110.5001,-388.784 107,-378.784 103.5001,-388.784 110.5001,-388.784\" stroke=\"#000000\"/>\n",
       "</g>\n",
       "<!-- 4952468840 -->\n",
       "<g class=\"node\" id=\"node6\">\n",
       "<title>4952468840</title>\n",
       "<polygon fill=\"none\" points=\"11.5,-249.5 11.5,-295.5 202.5,-295.5 202.5,-249.5 11.5,-249.5\" stroke=\"#000000\"/>\n",
       "<text fill=\"#000000\" font-family=\"Times,serif\" font-size=\"14.00\" text-anchor=\"middle\" x=\"53\" y=\"-268.8\">dense_5: Dense</text>\n",
       "<polyline fill=\"none\" points=\"94.5,-249.5 94.5,-295.5 \" stroke=\"#000000\"/>\n",
       "<text fill=\"#000000\" font-family=\"Times,serif\" font-size=\"14.00\" text-anchor=\"middle\" x=\"117.5\" y=\"-280.3\">input:</text>\n",
       "<polyline fill=\"none\" points=\"94.5,-272.5 140.5,-272.5 \" stroke=\"#000000\"/>\n",
       "<text fill=\"#000000\" font-family=\"Times,serif\" font-size=\"14.00\" text-anchor=\"middle\" x=\"117.5\" y=\"-257.3\">output:</text>\n",
       "<polyline fill=\"none\" points=\"140.5,-249.5 140.5,-295.5 \" stroke=\"#000000\"/>\n",
       "<text fill=\"#000000\" font-family=\"Times,serif\" font-size=\"14.00\" text-anchor=\"middle\" x=\"171.5\" y=\"-280.3\">(None, 2)</text>\n",
       "<polyline fill=\"none\" points=\"140.5,-272.5 202.5,-272.5 \" stroke=\"#000000\"/>\n",
       "<text fill=\"#000000\" font-family=\"Times,serif\" font-size=\"14.00\" text-anchor=\"middle\" x=\"171.5\" y=\"-257.3\">(None, 10)</text>\n",
       "</g>\n",
       "<!-- 4708545704&#45;&gt;4952468840 -->\n",
       "<g class=\"edge\" id=\"edge5\">\n",
       "<title>4708545704-&gt;4952468840</title>\n",
       "<path d=\"M107,-332.3799C107,-324.1745 107,-314.7679 107,-305.8786\" fill=\"none\" stroke=\"#000000\"/>\n",
       "<polygon fill=\"#000000\" points=\"110.5001,-305.784 107,-295.784 103.5001,-305.784 110.5001,-305.784\" stroke=\"#000000\"/>\n",
       "</g>\n",
       "<!-- 4952469176 -->\n",
       "<g class=\"node\" id=\"node7\">\n",
       "<title>4952469176</title>\n",
       "<polygon fill=\"none\" points=\"11.5,-166.5 11.5,-212.5 202.5,-212.5 202.5,-166.5 11.5,-166.5\" stroke=\"#000000\"/>\n",
       "<text fill=\"#000000\" font-family=\"Times,serif\" font-size=\"14.00\" text-anchor=\"middle\" x=\"53\" y=\"-185.8\">dense_6: Dense</text>\n",
       "<polyline fill=\"none\" points=\"94.5,-166.5 94.5,-212.5 \" stroke=\"#000000\"/>\n",
       "<text fill=\"#000000\" font-family=\"Times,serif\" font-size=\"14.00\" text-anchor=\"middle\" x=\"117.5\" y=\"-197.3\">input:</text>\n",
       "<polyline fill=\"none\" points=\"94.5,-189.5 140.5,-189.5 \" stroke=\"#000000\"/>\n",
       "<text fill=\"#000000\" font-family=\"Times,serif\" font-size=\"14.00\" text-anchor=\"middle\" x=\"117.5\" y=\"-174.3\">output:</text>\n",
       "<polyline fill=\"none\" points=\"140.5,-166.5 140.5,-212.5 \" stroke=\"#000000\"/>\n",
       "<text fill=\"#000000\" font-family=\"Times,serif\" font-size=\"14.00\" text-anchor=\"middle\" x=\"171.5\" y=\"-197.3\">(None, 10)</text>\n",
       "<polyline fill=\"none\" points=\"140.5,-189.5 202.5,-189.5 \" stroke=\"#000000\"/>\n",
       "<text fill=\"#000000\" font-family=\"Times,serif\" font-size=\"14.00\" text-anchor=\"middle\" x=\"171.5\" y=\"-174.3\">(None, 64)</text>\n",
       "</g>\n",
       "<!-- 4952468840&#45;&gt;4952469176 -->\n",
       "<g class=\"edge\" id=\"edge6\">\n",
       "<title>4952468840-&gt;4952469176</title>\n",
       "<path d=\"M107,-249.3799C107,-241.1745 107,-231.7679 107,-222.8786\" fill=\"none\" stroke=\"#000000\"/>\n",
       "<polygon fill=\"#000000\" points=\"110.5001,-222.784 107,-212.784 103.5001,-222.784 110.5001,-222.784\" stroke=\"#000000\"/>\n",
       "</g>\n",
       "<!-- 4952612816 -->\n",
       "<g class=\"node\" id=\"node8\">\n",
       "<title>4952612816</title>\n",
       "<polygon fill=\"none\" points=\"9,-83.5 9,-129.5 205,-129.5 205,-83.5 9,-83.5\" stroke=\"#000000\"/>\n",
       "<text fill=\"#000000\" font-family=\"Times,serif\" font-size=\"14.00\" text-anchor=\"middle\" x=\"50.5\" y=\"-102.8\">dense_7: Dense</text>\n",
       "<polyline fill=\"none\" points=\"92,-83.5 92,-129.5 \" stroke=\"#000000\"/>\n",
       "<text fill=\"#000000\" font-family=\"Times,serif\" font-size=\"14.00\" text-anchor=\"middle\" x=\"115\" y=\"-114.3\">input:</text>\n",
       "<polyline fill=\"none\" points=\"92,-106.5 138,-106.5 \" stroke=\"#000000\"/>\n",
       "<text fill=\"#000000\" font-family=\"Times,serif\" font-size=\"14.00\" text-anchor=\"middle\" x=\"115\" y=\"-91.3\">output:</text>\n",
       "<polyline fill=\"none\" points=\"138,-83.5 138,-129.5 \" stroke=\"#000000\"/>\n",
       "<text fill=\"#000000\" font-family=\"Times,serif\" font-size=\"14.00\" text-anchor=\"middle\" x=\"171.5\" y=\"-114.3\">(None, 64)</text>\n",
       "<polyline fill=\"none\" points=\"138,-106.5 205,-106.5 \" stroke=\"#000000\"/>\n",
       "<text fill=\"#000000\" font-family=\"Times,serif\" font-size=\"14.00\" text-anchor=\"middle\" x=\"171.5\" y=\"-91.3\">(None, 128)</text>\n",
       "</g>\n",
       "<!-- 4952469176&#45;&gt;4952612816 -->\n",
       "<g class=\"edge\" id=\"edge7\">\n",
       "<title>4952469176-&gt;4952612816</title>\n",
       "<path d=\"M107,-166.3799C107,-158.1745 107,-148.7679 107,-139.8786\" fill=\"none\" stroke=\"#000000\"/>\n",
       "<polygon fill=\"#000000\" points=\"110.5001,-139.784 107,-129.784 103.5001,-139.784 110.5001,-139.784\" stroke=\"#000000\"/>\n",
       "</g>\n",
       "<!-- 4434348688 -->\n",
       "<g class=\"node\" id=\"node9\">\n",
       "<title>4434348688</title>\n",
       "<polygon fill=\"none\" points=\"9,-.5 9,-46.5 205,-46.5 205,-.5 9,-.5\" stroke=\"#000000\"/>\n",
       "<text fill=\"#000000\" font-family=\"Times,serif\" font-size=\"14.00\" text-anchor=\"middle\" x=\"50.5\" y=\"-19.8\">dense_8: Dense</text>\n",
       "<polyline fill=\"none\" points=\"92,-.5 92,-46.5 \" stroke=\"#000000\"/>\n",
       "<text fill=\"#000000\" font-family=\"Times,serif\" font-size=\"14.00\" text-anchor=\"middle\" x=\"115\" y=\"-31.3\">input:</text>\n",
       "<polyline fill=\"none\" points=\"92,-23.5 138,-23.5 \" stroke=\"#000000\"/>\n",
       "<text fill=\"#000000\" font-family=\"Times,serif\" font-size=\"14.00\" text-anchor=\"middle\" x=\"115\" y=\"-8.3\">output:</text>\n",
       "<polyline fill=\"none\" points=\"138,-.5 138,-46.5 \" stroke=\"#000000\"/>\n",
       "<text fill=\"#000000\" font-family=\"Times,serif\" font-size=\"14.00\" text-anchor=\"middle\" x=\"171.5\" y=\"-31.3\">(None, 128)</text>\n",
       "<polyline fill=\"none\" points=\"138,-23.5 205,-23.5 \" stroke=\"#000000\"/>\n",
       "<text fill=\"#000000\" font-family=\"Times,serif\" font-size=\"14.00\" text-anchor=\"middle\" x=\"171.5\" y=\"-8.3\">(None, 784)</text>\n",
       "</g>\n",
       "<!-- 4952612816&#45;&gt;4434348688 -->\n",
       "<g class=\"edge\" id=\"edge8\">\n",
       "<title>4952612816-&gt;4434348688</title>\n",
       "<path d=\"M107,-83.3799C107,-75.1745 107,-65.7679 107,-56.8786\" fill=\"none\" stroke=\"#000000\"/>\n",
       "<polygon fill=\"#000000\" points=\"110.5001,-56.784 107,-46.784 103.5001,-56.784 110.5001,-56.784\" stroke=\"#000000\"/>\n",
       "</g>\n",
       "</g>\n",
       "</svg>"
      ],
      "text/plain": [
       "<IPython.core.display.SVG object>"
      ]
     },
     "execution_count": 12,
     "metadata": {},
     "output_type": "execute_result"
    }
   ],
   "source": [
    "# 或在ipython notebook中显示\n",
    "from IPython.display import SVG\n",
    "from keras.utils.vis_utils import model_to_dot\n",
    "\n",
    "SVG(model_to_dot(autoencoder, show_shapes=True).create(prog='dot', format='svg'))"
   ]
  },
  {
   "cell_type": "code",
   "execution_count": 9,
   "metadata": {
    "collapsed": true
   },
   "outputs": [],
   "source": [
    "# construct the encoder model for plotting\n",
    "encoder = Model(inputs=input_img, outputs=encoder_output)"
   ]
  },
  {
   "cell_type": "code",
   "execution_count": 10,
   "metadata": {
    "collapsed": true
   },
   "outputs": [],
   "source": [
    "# compile autoencoder\n",
    "autoencoder.compile(optimizer='adam', loss='mse')"
   ]
  },
  {
   "cell_type": "code",
   "execution_count": 11,
   "metadata": {},
   "outputs": [
    {
     "name": "stdout",
     "output_type": "stream",
     "text": [
      "Epoch 1/20\n",
      "60000/60000 [==============================] - 3s 44us/step - loss: 0.0692\n",
      "Epoch 2/20\n",
      "60000/60000 [==============================] - 2s 34us/step - loss: 0.0561\n",
      "Epoch 3/20\n",
      "60000/60000 [==============================] - 2s 34us/step - loss: 0.0518\n",
      "Epoch 4/20\n",
      "60000/60000 [==============================] - 2s 36us/step - loss: 0.0489\n",
      "Epoch 5/20\n",
      "60000/60000 [==============================] - 2s 34us/step - loss: 0.0470\n",
      "Epoch 6/20\n",
      "60000/60000 [==============================] - 2s 34us/step - loss: 0.0455\n",
      "Epoch 7/20\n",
      "60000/60000 [==============================] - 2s 36us/step - loss: 0.0442\n",
      "Epoch 8/20\n",
      "60000/60000 [==============================] - 2s 37us/step - loss: 0.0433\n",
      "Epoch 9/20\n",
      "60000/60000 [==============================] - 2s 32us/step - loss: 0.0426\n",
      "Epoch 10/20\n",
      "60000/60000 [==============================] - 2s 31us/step - loss: 0.0422\n",
      "Epoch 11/20\n",
      "60000/60000 [==============================] - 2s 31us/step - loss: 0.0417\n",
      "Epoch 12/20\n",
      "60000/60000 [==============================] - 2s 31us/step - loss: 0.0413\n",
      "Epoch 13/20\n",
      "60000/60000 [==============================] - 2s 31us/step - loss: 0.0409\n",
      "Epoch 14/20\n",
      "60000/60000 [==============================] - 2s 31us/step - loss: 0.0406\n",
      "Epoch 15/20\n",
      "60000/60000 [==============================] - 2s 31us/step - loss: 0.0406\n",
      "Epoch 16/20\n",
      "60000/60000 [==============================] - 2s 32us/step - loss: 0.0402\n",
      "Epoch 17/20\n",
      "60000/60000 [==============================] - 2s 34us/step - loss: 0.0400\n",
      "Epoch 18/20\n",
      "60000/60000 [==============================] - 2s 35us/step - loss: 0.0398\n",
      "Epoch 19/20\n",
      "60000/60000 [==============================] - 2s 41us/step - loss: 0.0396\n",
      "Epoch 20/20\n",
      "60000/60000 [==============================] - 2s 36us/step - loss: 0.0395\n"
     ]
    },
    {
     "data": {
      "text/plain": [
       "<keras.callbacks.History at 0x12d03dba8>"
      ]
     },
     "execution_count": 11,
     "metadata": {},
     "output_type": "execute_result"
    }
   ],
   "source": [
    "# training\n",
    "autoencoder.fit(x_train, x_train,\n",
    "                epochs=20,\n",
    "                batch_size=256,\n",
    "                shuffle=True)"
   ]
  },
  {
   "cell_type": "code",
   "execution_count": 12,
   "metadata": {},
   "outputs": [
    {
     "data": {
      "image/png": "[encoded data removed]",
      "text/plain": [
       "<matplotlib.figure.Figure at 0x12db99128>"
      ]
     },
     "metadata": {},
     "output_type": "display_data"
    }
   ],
   "source": [
    "# plotting\n",
    "encoded_imgs = encoder.predict(x_test)\n",
    "plt.scatter(encoded_imgs[:, 0], encoded_imgs[:, 1], c=y_test)\n",
    "plt.colorbar()\n",
    "plt.show()"
   ]
  },
  {
   "cell_type": "code",
   "execution_count": null,
   "metadata": {
    "collapsed": true
   },
   "outputs": [],
   "source": []
  }
 ],
 "metadata": {
  "kernelspec": {
   "display_name": "Python 3",
   "language": "python",
   "name": "python3"
  },
  "language_info": {
   "codemirror_mode": {
    "name": "ipython",
    "version": 3
   },
   "file_extension": ".py",
   "mimetype": "text/x-python",
   "name": "python",
   "nbconvert_exporter": "python",
   "pygments_lexer": "ipython3",
   "version": "3.6.3"
  }
 },
 "nbformat": 4,
 "nbformat_minor": 2
}
